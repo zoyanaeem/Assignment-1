{
 "cells": [
  {
   "cell_type": "code",
   "execution_count": 3,
   "id": "02a8cc26-a911-4e00-925e-8cd4dc914701",
   "metadata": {},
   "outputs": [
    {
     "name": "stdout",
     "output_type": "stream",
     "text": [
      "2\n",
      "4\n",
      "6\n",
      "8\n",
      "10\n",
      "12\n",
      "14\n",
      "16\n",
      "18\n"
     ]
    }
   ],
   "source": [
    "#Question 1 : \n",
    "for even in range(2,20,2):\n",
    "    print(even)"
   ]
  },
  {
   "cell_type": "code",
   "execution_count": 1,
   "id": "a14f0415-e07d-43da-b4b3-22420903f129",
   "metadata": {},
   "outputs": [
    {
     "name": "stdout",
     "output_type": "stream",
     "text": [
      "My name is Shagufta.\n",
      "My name is Mikail.\n",
      "My name is Haris.\n",
      "My name is Kamal.\n"
     ]
    }
   ],
   "source": [
    "#Question 2:\n",
    "name=[\"shagufta\",\"mikail\",\"haris\",\"kamal\"]\n",
    "for name in name:\n",
    "    print(f\"My name is {name.title()}.\")"
   ]
  },
  {
   "cell_type": "code",
   "execution_count": 69,
   "id": "1418550c-877e-4fe5-b3bb-0776937b5eda",
   "metadata": {},
   "outputs": [
    {
     "name": "stdout",
     "output_type": "stream",
     "text": [
      "10\n",
      "9\n",
      "8\n",
      "7\n",
      "6\n",
      "5\n",
      "4\n",
      "3\n",
      "2\n",
      "1\n"
     ]
    }
   ],
   "source": [
    "#Question 3:\n",
    "for i in range(10,0,-1):\n",
    "    print(i)\n",
    "  "
   ]
  },
  {
   "cell_type": "code",
   "execution_count": 68,
   "id": "9da8cd6e-2e4d-4107-80e3-c04f3f7c78e3",
   "metadata": {},
   "outputs": [
    {
     "name": "stdout",
     "output_type": "stream",
     "text": [
      "Numbers that are divisible by 3 :\n",
      "1\n",
      "3\n",
      "24\n",
      "29\n",
      "27\n",
      "30\n",
      "96\n",
      "124\n",
      "450\n",
      "90\n"
     ]
    }
   ],
   "source": [
    "#Question 4 :\n",
    "integers=[1,3,24,29,27,30,96,124,450,90]\n",
    "print(f\"Numbers that are divisible by 3 :\")\n",
    "for inte in integers:\n",
    "    if number%3==0:\n",
    "     print(inte)"
   ]
  },
  {
   "cell_type": "code",
   "execution_count": 34,
   "id": "60496215-ac94-4d40-88e7-06f3effe46bd",
   "metadata": {},
   "outputs": [
    {
     "name": "stdout",
     "output_type": "stream",
     "text": [
      "The squared no is, 1\n",
      "The squared no is, 4\n",
      "The squared no is, 9\n",
      "The squared no is, 16\n",
      "The squared no is, 25\n",
      "The squared no is, 36\n",
      "The squared no is, 49\n",
      "The squared no is, 64\n",
      "The squared no is, 81\n",
      "The squared no is, 100\n"
     ]
    }
   ],
   "source": [
    "#Question 5:\n",
    "numbers=[1,2,3,4,5,6,7,8,9,10]\n",
    "for num in numbers:\n",
    "    squared=num**2\n",
    "    print(f\"The squared no is, {squared}\")\n",
    "    "
   ]
  },
  {
   "cell_type": "code",
   "execution_count": 74,
   "id": "1b6b9781-0255-4d9f-92df-13627b03aca4",
   "metadata": {},
   "outputs": [
    {
     "name": "stdout",
     "output_type": "stream",
     "text": [
      "The temperatures in Celsius and Fahrenheit are:\n",
      "39.4 C and in Fahrenheit is, 102.91999999999999F\n",
      "46.9 C and in Fahrenheit is, 116.41999999999999F\n",
      "78.9 C and in Fahrenheit is, 174.02F\n"
     ]
    }
   ],
   "source": [
    "#Question 6:\n",
    "temperatures_celsius=[39.4,46.9,78.9]\n",
    "print(\"The temperatures in Celsius and Fahrenheit are:\")\n",
    "for celsius in temperatures_celsius:\n",
    "    fahrenheit=(celsius*9/5) + 32\n",
    "    print(f\"{celsius} C and in Fahrenheit is, {fahrenheit}F\")"
   ]
  },
  {
   "cell_type": "code",
   "execution_count": 2,
   "id": "9b7e58e6-127e-4457-80f6-e163fcc51389",
   "metadata": {},
   "outputs": [
    {
     "name": "stdout",
     "output_type": "stream",
     "text": [
      "5\n",
      "10\n",
      "15\n",
      "20\n",
      "25\n",
      "30\n",
      "35\n",
      "40\n",
      "45\n",
      "50\n"
     ]
    }
   ],
   "source": [
    "#Question 7:\n",
    "for i in range(1,11):\n",
    "    print(f\"{i*5}\")\n",
    "    "
   ]
  },
  {
   "cell_type": "code",
   "execution_count": 64,
   "id": "614171c8-8e87-4fd4-aecc-4d9398a2c4bc",
   "metadata": {},
   "outputs": [
    {
     "name": "stdout",
     "output_type": "stream",
     "text": [
      "The sum of all the numbers in the list is: 75.\n"
     ]
    }
   ],
   "source": [
    "#Question 8:\n",
    "numbers=[1,2,4,6,8,9,3,5,7,8,9,3,4,6]\n",
    "total=0\n",
    "for number in numbers:\n",
    "    total +=number\n",
    "print(f\"The sum of all the numbers in the list is: {total}.\")\n",
    "\n",
    "    \n",
    "\n"
   ]
  },
  {
   "cell_type": "code",
   "execution_count": 20,
   "id": "34e6c30d-8102-481a-9ea3-9fd53242f5fa",
   "metadata": {},
   "outputs": [
    {
     "name": "stdout",
     "output_type": "stream",
     "text": [
      "M\n",
      "y\n",
      " \n",
      "n\n",
      "a\n",
      "m\n",
      "e\n",
      " \n",
      "i\n",
      "s\n",
      " \n",
      "Z\n",
      "o\n",
      "y\n",
      "a\n",
      " \n",
      "N\n",
      "a\n",
      "e\n",
      "e\n",
      "m\n"
     ]
    }
   ],
   "source": [
    "#Question 9:\n",
    "input_string=\"My name is Zoya Naeem\"\n",
    "for inp in input_string:\n",
    "    print(inp)"
   ]
  },
  {
   "cell_type": "code",
   "execution_count": 39,
   "id": "8fb481d9-b821-4424-aaba-6f271fbae9ff",
   "metadata": {},
   "outputs": [
    {
     "name": "stdout",
     "output_type": "stream",
     "text": [
      "Words with more letters than 5 are:\n",
      "iguana\n",
      "penguin\n"
     ]
    }
   ],
   "source": [
    "#Question 10:\n",
    "words=['snake','iguana','penguin','bear','panda']\n",
    "print(\"Words with more letters than 5 are:\")\n",
    "def print_long_words(words):\n",
    "    for word in words:\n",
    "        if len(word)>5:\n",
    "            print(word)\n",
    "            \n",
    "print_long_words(words)\n",
    "            \n"
   ]
  }
 ],
 "metadata": {
  "kernelspec": {
   "display_name": "Python 3 (ipykernel)",
   "language": "python",
   "name": "python3"
  },
  "language_info": {
   "codemirror_mode": {
    "name": "ipython",
    "version": 3
   },
   "file_extension": ".py",
   "mimetype": "text/x-python",
   "name": "python",
   "nbconvert_exporter": "python",
   "pygments_lexer": "ipython3",
   "version": "3.12.7"
  }
 },
 "nbformat": 4,
 "nbformat_minor": 5
}
